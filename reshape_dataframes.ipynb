{
 "cells": [
  {
   "cell_type": "code",
   "execution_count": 93,
   "metadata": {},
   "outputs": [],
   "source": [
    "import pandas as pd\n",
    "import os"
   ]
  },
  {
   "cell_type": "code",
   "execution_count": 95,
   "metadata": {},
   "outputs": [
    {
     "name": "stderr",
     "output_type": "stream",
     "text": [
      "/tmp/ipykernel_935044/2463525049.py:12: FutureWarning: Series.fillna with 'method' is deprecated and will raise in a future version. Use obj.ffill() or obj.bfill() instead.\n",
      "  df['PRECIPITA TOTAL, HORARIO (mm)'] = df['PRECIPITA TOTAL, HORARIO (mm)'].fillna(method='ffill').fillna(method='bfill')\n",
      "/tmp/ipykernel_935044/2463525049.py:12: FutureWarning: Series.fillna with 'method' is deprecated and will raise in a future version. Use obj.ffill() or obj.bfill() instead.\n",
      "  df['PRECIPITA TOTAL, HORARIO (mm)'] = df['PRECIPITA TOTAL, HORARIO (mm)'].fillna(method='ffill').fillna(method='bfill')\n",
      "/tmp/ipykernel_935044/2463525049.py:12: FutureWarning: Series.fillna with 'method' is deprecated and will raise in a future version. Use obj.ffill() or obj.bfill() instead.\n",
      "  df['PRECIPITA TOTAL, HORARIO (mm)'] = df['PRECIPITA TOTAL, HORARIO (mm)'].fillna(method='ffill').fillna(method='bfill')\n",
      "/tmp/ipykernel_935044/2463525049.py:12: FutureWarning: Series.fillna with 'method' is deprecated and will raise in a future version. Use obj.ffill() or obj.bfill() instead.\n",
      "  df['PRECIPITA TOTAL, HORARIO (mm)'] = df['PRECIPITA TOTAL, HORARIO (mm)'].fillna(method='ffill').fillna(method='bfill')\n",
      "/tmp/ipykernel_935044/2463525049.py:12: FutureWarning: Series.fillna with 'method' is deprecated and will raise in a future version. Use obj.ffill() or obj.bfill() instead.\n",
      "  df['PRECIPITA TOTAL, HORARIO (mm)'] = df['PRECIPITA TOTAL, HORARIO (mm)'].fillna(method='ffill').fillna(method='bfill')\n",
      "/tmp/ipykernel_935044/2463525049.py:12: FutureWarning: Series.fillna with 'method' is deprecated and will raise in a future version. Use obj.ffill() or obj.bfill() instead.\n",
      "  df['PRECIPITA TOTAL, HORARIO (mm)'] = df['PRECIPITA TOTAL, HORARIO (mm)'].fillna(method='ffill').fillna(method='bfill')\n",
      "/tmp/ipykernel_935044/2463525049.py:12: FutureWarning: Series.fillna with 'method' is deprecated and will raise in a future version. Use obj.ffill() or obj.bfill() instead.\n",
      "  df['PRECIPITA TOTAL, HORARIO (mm)'] = df['PRECIPITA TOTAL, HORARIO (mm)'].fillna(method='ffill').fillna(method='bfill')\n",
      "/tmp/ipykernel_935044/2463525049.py:12: FutureWarning: Series.fillna with 'method' is deprecated and will raise in a future version. Use obj.ffill() or obj.bfill() instead.\n",
      "  df['PRECIPITA TOTAL, HORARIO (mm)'] = df['PRECIPITA TOTAL, HORARIO (mm)'].fillna(method='ffill').fillna(method='bfill')\n",
      "/tmp/ipykernel_935044/2463525049.py:12: FutureWarning: Series.fillna with 'method' is deprecated and will raise in a future version. Use obj.ffill() or obj.bfill() instead.\n",
      "  df['PRECIPITA TOTAL, HORARIO (mm)'] = df['PRECIPITA TOTAL, HORARIO (mm)'].fillna(method='ffill').fillna(method='bfill')\n",
      "/tmp/ipykernel_935044/2463525049.py:12: FutureWarning: Series.fillna with 'method' is deprecated and will raise in a future version. Use obj.ffill() or obj.bfill() instead.\n",
      "  df['PRECIPITA TOTAL, HORARIO (mm)'] = df['PRECIPITA TOTAL, HORARIO (mm)'].fillna(method='ffill').fillna(method='bfill')\n",
      "/tmp/ipykernel_935044/2463525049.py:12: FutureWarning: Series.fillna with 'method' is deprecated and will raise in a future version. Use obj.ffill() or obj.bfill() instead.\n",
      "  df['PRECIPITA TOTAL, HORARIO (mm)'] = df['PRECIPITA TOTAL, HORARIO (mm)'].fillna(method='ffill').fillna(method='bfill')\n"
     ]
    }
   ],
   "source": [
    "csv_files = [f for f in os.listdir('files/olds')]\n",
    "for file in csv_files:\n",
    "    df = pd.read_csv(f'files/olds/{file}')\n",
    "    columns = ['Data', 'Hora UTC', 'PRECIPITA TOTAL, HORARIO (mm)' ]\n",
    "    df = df[columns]\n",
    "    df = df.drop(columns=['Hora UTC'])\n",
    "    df['PRECIPITA TOTAL, HORARIO (mm)'] = df['PRECIPITA TOTAL, HORARIO (mm)'].str.replace(',', '.')\n",
    "    df['PRECIPITA TOTAL, HORARIO (mm)'] = pd.to_numeric(df['PRECIPITA TOTAL, HORARIO (mm)'], errors='coerce')\n",
    "    df[df['PRECIPITA TOTAL, HORARIO (mm)'] < 0] = None\n",
    "\n",
    "    while df['PRECIPITA TOTAL, HORARIO (mm)'].isna().sum() > 0:\n",
    "        df['PRECIPITA TOTAL, HORARIO (mm)'] = df['PRECIPITA TOTAL, HORARIO (mm)'].fillna(method='ffill').fillna(method='bfill')\n",
    "    df_grouped = df.groupby(\"Data\").sum().reset_index()\n",
    "    file_name = file.replace('.CSV', '.csv')\n",
    "    df_grouped.to_csv(f'files/{file_name}', index=False)\n",
    "    \n"
   ]
  },
  {
   "cell_type": "code",
   "execution_count": 91,
   "metadata": {},
   "outputs": [
    {
     "data": {
      "text/html": [
       "<div>\n",
       "<style scoped>\n",
       "    .dataframe tbody tr th:only-of-type {\n",
       "        vertical-align: middle;\n",
       "    }\n",
       "\n",
       "    .dataframe tbody tr th {\n",
       "        vertical-align: top;\n",
       "    }\n",
       "\n",
       "    .dataframe thead th {\n",
       "        text-align: right;\n",
       "    }\n",
       "</style>\n",
       "<table border=\"1\" class=\"dataframe\">\n",
       "  <thead>\n",
       "    <tr style=\"text-align: right;\">\n",
       "      <th></th>\n",
       "      <th>PRECIPITA TOTAL, HORARIO (mm)</th>\n",
       "    </tr>\n",
       "  </thead>\n",
       "  <tbody>\n",
       "    <tr>\n",
       "      <th>count</th>\n",
       "      <td>356.000000</td>\n",
       "    </tr>\n",
       "    <tr>\n",
       "      <th>mean</th>\n",
       "      <td>5.088202</td>\n",
       "    </tr>\n",
       "    <tr>\n",
       "      <th>std</th>\n",
       "      <td>11.549856</td>\n",
       "    </tr>\n",
       "    <tr>\n",
       "      <th>min</th>\n",
       "      <td>0.000000</td>\n",
       "    </tr>\n",
       "    <tr>\n",
       "      <th>25%</th>\n",
       "      <td>0.000000</td>\n",
       "    </tr>\n",
       "    <tr>\n",
       "      <th>50%</th>\n",
       "      <td>0.000000</td>\n",
       "    </tr>\n",
       "    <tr>\n",
       "      <th>75%</th>\n",
       "      <td>3.050000</td>\n",
       "    </tr>\n",
       "    <tr>\n",
       "      <th>max</th>\n",
       "      <td>74.000000</td>\n",
       "    </tr>\n",
       "  </tbody>\n",
       "</table>\n",
       "</div>"
      ],
      "text/plain": [
       "       PRECIPITA TOTAL, HORARIO (mm)\n",
       "count                     356.000000\n",
       "mean                        5.088202\n",
       "std                        11.549856\n",
       "min                         0.000000\n",
       "25%                         0.000000\n",
       "50%                         0.000000\n",
       "75%                         3.050000\n",
       "max                        74.000000"
      ]
     },
     "execution_count": 91,
     "metadata": {},
     "output_type": "execute_result"
    }
   ],
   "source": []
  },
  {
   "cell_type": "code",
   "execution_count": null,
   "metadata": {},
   "outputs": [],
   "source": []
  }
 ],
 "metadata": {
  "kernelspec": {
   "display_name": "base",
   "language": "python",
   "name": "python3"
  },
  "language_info": {
   "codemirror_mode": {
    "name": "ipython",
    "version": 3
   },
   "file_extension": ".py",
   "mimetype": "text/x-python",
   "name": "python",
   "nbconvert_exporter": "python",
   "pygments_lexer": "ipython3",
   "version": "3.11.5"
  }
 },
 "nbformat": 4,
 "nbformat_minor": 2
}
