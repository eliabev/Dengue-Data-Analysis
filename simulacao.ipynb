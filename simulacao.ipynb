{
 "cells": [
  {
   "cell_type": "code",
   "execution_count": 1,
   "metadata": {},
   "outputs": [],
   "source": [
    "import pandas as pd\n",
    "\n",
    "data = pd.read_csv('simulacao.csv')"
   ]
  },
  {
   "cell_type": "code",
   "execution_count": null,
   "metadata": {},
   "outputs": [
    {
     "name": "stdout",
     "output_type": "stream",
     "text": [
      "    data inicial semana    umidmin    umidmed    umidmax    tempmin  \\\n",
      "109          2025-03-30  57.515423  80.535597  96.545706  15.388878   \n",
      "108          2025-03-23  54.325967  98.346928  97.901185  16.877879   \n",
      "107          2025-03-16  66.325019  88.200304  72.595608  16.273883   \n",
      "106          2025-03-09  51.774832  96.096921  79.687884  15.942187   \n",
      "105          2025-03-02  74.538449  65.652377  77.377400  16.893145   \n",
      "..                  ...        ...        ...        ...        ...   \n",
      "4            2023-03-26  77.858359  76.856830  78.071475  24.911461   \n",
      "3            2023-03-19  75.756489  62.450349  73.847608  16.522182   \n",
      "2            2023-03-12  74.421744  63.069552  72.648662  18.530329   \n",
      "1            2023-03-05  97.708450  82.926482  96.921839  18.919709   \n",
      "0            2023-02-26  88.863365  67.425272  93.795819  22.217116   \n",
      "\n",
      "       tempmed    tempmax  precipitacao total  casos month  \n",
      "109  28.726648  25.900347          114.518361      0   Mar  \n",
      "108  27.062484  30.331074           50.843836      0   Mar  \n",
      "107  27.367348  34.416144           79.964800      0   Mar  \n",
      "106  22.586766  33.682597          138.851637      0   Mar  \n",
      "105  28.943580  26.108592          117.709351      0   Mar  \n",
      "..         ...        ...                 ...    ...   ...  \n",
      "4    21.983941  34.011000           99.282111      0   Mar  \n",
      "3    28.043488  30.438904           62.689315      0   Mar  \n",
      "2    27.480661  33.299784            3.290147      0   Mar  \n",
      "1    23.719945  25.879841           49.757108      0   Mar  \n",
      "0    21.317749  30.557538           87.968477      0   Feb  \n",
      "\n",
      "[110 rows x 10 columns]\n"
     ]
    }
   ],
   "source": [
    "data.iloc[::-1].to_csv('simulacao.csv', index=False)"
   ]
  }
 ],
 "metadata": {
  "kernelspec": {
   "display_name": "base",
   "language": "python",
   "name": "python3"
  },
  "language_info": {
   "codemirror_mode": {
    "name": "ipython",
    "version": 3
   },
   "file_extension": ".py",
   "mimetype": "text/x-python",
   "name": "python",
   "nbconvert_exporter": "python",
   "pygments_lexer": "ipython3",
   "version": "3.11.8"
  }
 },
 "nbformat": 4,
 "nbformat_minor": 2
}
